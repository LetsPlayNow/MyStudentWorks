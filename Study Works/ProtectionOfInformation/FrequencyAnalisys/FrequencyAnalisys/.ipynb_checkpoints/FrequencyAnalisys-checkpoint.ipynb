{
 "cells": [
  {
   "cell_type": "markdown",
   "metadata": {},
   "source": [
    "# Frequency analysis"
   ]
  },
  {
   "cell_type": "code",
   "execution_count": 1,
   "metadata": {
    "collapsed": true
   },
   "outputs": [],
   "source": [
    "from __future__ import unicode_literals"
   ]
  },
  {
   "cell_type": "code",
   "execution_count": 2,
   "metadata": {
    "collapsed": false
   },
   "outputs": [],
   "source": [
    "crypted_text = \"\"\"РГШВГЕЕКГИШБТНВВЦОВБФЕОЫЛАНЖВЕЕВБОГШЕТГ3ЧЕЬНВЕНЕРБВБДНИЖГР\n",
    "ЕУБАНЖН3ИГРБРЬГТГШГ3ИЕ3РГНЕ3ТЛЯЕТГВРЫРБЖШЕЕРЦФНТРГИ3ИБРСЛРВБУ\n",
    "БТНЫГШБЛНОБТР3РГЭШНЖНРВЭЕ3ИНОДГЖГВГИИЛШБВНРЦНКЯБТГВАЦТЯНВБ\n",
    "ИВБАНШВГЕШРГЖЮВСНСГИГЖБЮЛЬНЖТБРЖГШБОРИГРЖНЬЮСБСГВВБОГШЕТ\n",
    "3ЮРГИЧНКЯНЬДГТНОГКЮЕ3ИРНВВЦНЛДЖБЯВНВЕЮ3СГЖГНЫГЛИНФЕТЕГВРЦ3\n",
    "ИЖГЕТШГЬДГ3ГА3ИРНВВГЬЛДТБВЛКБРНТЛ3НАЮ3ЛСГВВЛЭМБАЖЕСЛЛИЖГЕТ\n",
    "ШГОГШЦЕ3ИБТДГУЕИБИЧ3НАЮЛЬВНЕФЕЬУНТГРНСГЬРГРЗНЬГСГТГИСНРУНЬЕВ\n",
    "НДЖНСГЗТГРЕТЕНЬЛ3Г3НШЕДЖЕНКЯБРФЕНСВНЬЛЫГ3ИЕИЧ33РГЕЬЕ3НЬНЕ3ИРБ\n",
    "ЬЕЕ3ГАБСБЬЕРАЛШВЕГВОГШЕТРДТЕ3ГРГЕСЛЖИСНДГДЖБКШВЕСБЬВБШНРБТ3Н\n",
    "ЖИЛСЕК3ЛСВБШГЬБФВНЕЖБАГИЦ3БЬКБДЕ3ЦРБТЖБ3ОГШЕВЕУНЫГВНУЕИБТСЖ\n",
    "ГЬН3НВБИ3СЕОРНШГЬГ3ИНЕ\"\"\""
   ]
  },
  {
   "cell_type": "code",
   "execution_count": 3,
   "metadata": {
    "collapsed": true
   },
   "outputs": [],
   "source": [
    "import re\n",
    "import pandas as pd\n",
    "from collections import Counter\n",
    "import matplotlib\n",
    "import numpy as np\n",
    "import matplotlib.pyplot as plt\n",
    "%matplotlib inline\n",
    "matplotlib.rc('font',**{'family':'Droid Serif'})"
   ]
  },
  {
   "cell_type": "markdown",
   "metadata": {},
   "source": [
    "## Get alphabet frequencies ( from Wikipedia )"
   ]
  },
  {
   "cell_type": "code",
   "execution_count": 4,
   "metadata": {
    "collapsed": false
   },
   "outputs": [],
   "source": [
    "alphabet_frequencies = pd.Series.from_csv('alphabet_frequencies.csv', encoding='utf-8')\n",
    "# alphabet_frequencies.plot(kind='bar')"
   ]
  },
  {
   "cell_type": "markdown",
   "metadata": {},
   "source": [
    "## Get frequencies from text "
   ]
  },
  {
   "cell_type": "code",
   "execution_count": 5,
   "metadata": {
    "collapsed": true
   },
   "outputs": [],
   "source": [
    "# prepare text for treatment\n",
    "symbols_list = []\n",
    "for symbol in crypted_text.lower():\n",
    "    if re.match('[а-я]', symbol):\n",
    "        symbols_list.append(symbol)\n",
    "    \n",
    "letters_counts = Counter(symbols_list) #{'alpha' : count}\n",
    "\n",
    "# normalization to 1\n",
    "alphas_count = sum(letters_counts.values())\n",
    "letters_frequencies = {}\n",
    "for alpha, count in letters_counts.iteritems():\n",
    "    letters_frequencies[alpha] = float(count) / alphas_count\n",
    "crypted_frequencies = pd.Series(data=letters_frequencies)"
   ]
  },
  {
   "cell_type": "markdown",
   "metadata": {},
   "source": [
    "## Plot results"
   ]
  },
  {
   "cell_type": "code",
   "execution_count": 6,
   "metadata": {
    "collapsed": false,
    "scrolled": true
   },
   "outputs": [
    {
     "data": {
      "image/png": "[encoded data removed]",
      "text/plain": [
       "<matplotlib.figure.Figure at 0x7fe6fbf6f410>"
      ]
     },
     "metadata": {},
     "output_type": "display_data"
    }
   ],
   "source": [
    "fig, axes = plt.subplots(nrows=2, ncols=1)\n",
    "fig.tight_layout()\n",
    "crypted_frequencies.sort_index(inplace=True, ascending=True) # you can replace it with sort_values\n",
    "alphabet_frequencies.sort_index(inplace=True, ascending=True)\n",
    "crypted_frequencies.plot(kind='bar',  title='Crypted',  ax=axes[0])\n",
    "alphabet_frequencies.plot(kind='bar', title='Alphabet', ax=axes[1])\n",
    "plt.show()"
   ]
  },
  {
   "cell_type": "markdown",
   "metadata": {
    "collapsed": true
   },
   "source": [
    "## Testing by replace symbols with highes frequency"
   ]
  },
  {
   "cell_type": "code",
   "execution_count": null,
   "metadata": {
    "collapsed": true
   },
   "outputs": [],
   "source": [
    "crypted_alpha = crypted_frequencies.index[0]\n",
    "alphabet_alpha = alphabet_frequencies.index[0]\n",
    "print(\"crypted alpha '{}' is uncrypted '{}'\".format(crypted_alpha, alphabet_alpha))"
   ]
  },
  {
   "cell_type": "code",
   "execution_count": 12,
   "metadata": {
    "collapsed": false
   },
   "outputs": [],
   "source": [
    "?crypted_frequencies.index"
   ]
  },
  {
   "cell_type": "code",
   "execution_count": 8,
   "metadata": {
    "collapsed": true
   },
   "outputs": [],
   "source": [
    "# Let's try to uncript text\n",
    "diff = ord(alphabet_alpha) - ord(crypted_alpha)"
   ]
  },
  {
   "cell_type": "code",
   "execution_count": 9,
   "metadata": {
    "collapsed": false
   },
   "outputs": [],
   "source": [
    "uncrypted_text = []\n",
    "start = ord(u'а')\n",
    "end = ord(u'я')\n",
    "n = end-start\n",
    "\n",
    "for crypted_alpha in symbols_list:\n",
    "    index_in_alphabet = ord(crypted_alpha) - start\n",
    "    uncrypted_alpha = unichr(start + (index_in_alphabet - diff + n) % n)\n",
    "    uncrypted_text.append(uncrypted_alpha)"
   ]
  },
  {
   "cell_type": "markdown",
   "metadata": {},
   "source": [
    "### Crypted text"
   ]
  },
  {
   "cell_type": "code",
   "execution_count": 10,
   "metadata": {
    "collapsed": false
   },
   "outputs": [
    {
     "name": "stdout",
     "output_type": "stream",
     "text": [
      "ргшвгеекгишбтнввцовбфеоыланжвеевбогшетгчеьнвенербвбднижгреубанжнигрбрьгтгшгиергнетляетгврырбжшеерцфнтргиибрслрвбубтныгшблнобтрргэшнжнрвэеинодгжгвгиилшбвнрцнкябтгвацтянвбивбаншвгешргжювснсгигжбюльнжтбржгшборигржньюсбсгввбогшетюргичнкяньдгтногкюеирнввцнлджбявнвеюсгжгныглинфетегврцижгетшгьдггаирнввгьлдтбвлкбрнтлнаюлсгввлэмбажесллижгетшгогшцеибтдгуеибичнаюльвнефеьунтгрнсгьргрзньгсгтгиснруньевнджнсгзтгретеньлгншедженкябрфенсвньлыгиеичргеьеньнеирбьеегабсбьералшвегвогшетрдтегргеслжисндгджбкшвесбьвбшнрбтнжилсеклсвбшгьбфвнежбагицбькбдецрбтжбогшевеуныгвнуеибтсжгьннвбисеорншгьгине\n"
     ]
    }
   ],
   "source": [
    "print \"\".join(symbols_list)"
   ]
  },
  {
   "cell_type": "markdown",
   "metadata": {},
   "source": [
    "### Uncrypted text"
   ]
  },
  {
   "cell_type": "code",
   "execution_count": 11,
   "metadata": {
    "collapsed": false
   },
   "outputs": [
    {
     "name": "stdout",
     "output_type": "stream",
     "text": [
      "ргшвгеекгишбтнввцовбфеоыланжвеевбогшетгчеьнвенербвбднижгреубанжнигрбрьгтгшгиергнетлаетгврырбжшеерцфнтргиибрслрвбубтныгшблнобтрргэшнжнрвэеинодгжгвгиилшбвнрцнкабтгвацтанвбивбаншвгешргжювснсгигжбюльнжтбржгшборигржньюсбсгввбогшетюргичнканьдгтногкюеирнввцнлджбавнвеюсгжгныглинфетегврцижгетшгьдггаирнввгьлдтбвлкбрнтлнаюлсгввлэмбажесллижгетшгогшцеибтдгуеибичнаюльвнефеьунтгрнсгьргрзньгсгтгиснруньевнджнсгзтгретеньлгншедженкабрфенсвньлыгиеичргеьеньнеирбьеегабсбьералшвегвогшетрдтегргеслжисндгджбкшвесбьвбшнрбтнжилсеклсвбшгьбфвнежбагицбькбдецрбтжбогшевеуныгвнуеибтсжгьннвбисеорншгьгине\n"
     ]
    }
   ],
   "source": [
    "print \"\".join(uncrypted_text)"
   ]
  }
 ],
 "metadata": {
  "kernelspec": {
   "display_name": "Python [Root]",
   "language": "python",
   "name": "Python [Root]"
  },
  "language_info": {
   "codemirror_mode": {
    "name": "ipython",
    "version": 2
   },
   "file_extension": ".py",
   "mimetype": "text/x-python",
   "name": "python",
   "nbconvert_exporter": "python",
   "pygments_lexer": "ipython2",
   "version": "2.7.12"
  }
 },
 "nbformat": 4,
 "nbformat_minor": 0
}
